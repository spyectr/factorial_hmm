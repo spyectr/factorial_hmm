{
  "cells": [
    {
      "cell_type": "code",
      "execution_count": 12,
      "metadata": {
        "id": "mk2LUTyQX_OM"
      },
      "outputs": [
        {
          "name": "stdout",
          "output_type": "stream",
          "text": [
            "Parallel processing with 18 cores\n"
          ]
        }
      ],
      "source": [
        "import numpy as np\n",
        "import numpy.random as npr\n",
        "\n",
        "import matplotlib.pyplot as plt\n",
        "from tqdm.auto import trange \n",
        "\n",
        "import ssm\n",
        "from ssm.messages import hmm_sample\n",
        "\n",
        "from joblib import Parallel, delayed\n",
        "import multiprocessing\n",
        "NumThread=(multiprocessing.cpu_count()-1)*2 # sets number of workers based on cpus on current machine\n",
        "print('Parallel processing with '+str(NumThread)+' cores')\n",
        "\n",
        "# from util_factorial_hmm import gibbs"
      ]
    },
    {
      "cell_type": "markdown",
      "metadata": {
        "id": "RQTAkkHHYTdD"
      },
      "source": [
        "# Sample synthetic data"
      ]
    },
    {
      "cell_type": "code",
      "execution_count": 14,
      "metadata": {
        "id": "UHNgIIJPYfSc"
      },
      "outputs": [],
      "source": [
        "num_factors = 2\n",
        "num_states = 2\n",
        "emission_dim = 10\n",
        "\n",
        "hypers = dict(num_factors=num_factors,\n",
        "              num_states=num_states,\n",
        "              emission_dim=emission_dim)\n",
        "\n",
        "num_timesteps = 2000\n",
        "\n",
        "initial_dist = np.ones((num_factors, num_states)) / num_states\n",
        "transition_matrix = 0.9 * np.eye(num_states) + 0.1 * np.roll(np.eye(num_states), 1, axis=1)\n",
        "transition_matrices = np.tile(transition_matrix, (num_factors, 1, 1))\n",
        "\n",
        "means = 3 * npr.randn(num_factors, num_states, emission_dim)\n",
        "# means = np.zeros((num_factors, num_states, emission_dim))\n",
        "# means[1] = npr.gamma(10.0, 1.0, size=(num_states, emission_dim))\n",
        "# variances = 0.1 * np.ones((num_factors, num_states, emission_dim))\n",
        "variances=0.5*np.ones(emission_dim)\n",
        "\n",
        "params = dict(initial_dist=initial_dist,\n",
        "              transition_matrices=transition_matrices,\n",
        "              means=means,\n",
        "              variances=variances)\n",
        "\n",
        "true_states = np.zeros((num_timesteps, num_factors), dtype=int)\n",
        "emissions = np.zeros((num_timesteps, emission_dim))\n",
        "expec_emissions = np.zeros((num_timesteps, emission_dim))\n",
        "\n",
        "npr.seed(0)\n",
        "for t in range(num_timesteps):\n",
        "    for h in range(num_factors):\n",
        "        if t > 0:\n",
        "            true_states[t, h] = \\\n",
        "              npr.choice(num_states, p=transition_matrices[h, true_states[t-1, h]])\n",
        "        \n",
        "    # mean = np.zeros(emission_dim)\n",
        "    # for h in range(num_factors):      \n",
        "    #     mean += means[h, states[t,h], :]\n",
        "    expec_emissions[t] = np.sum(means[np.arange(num_factors), true_states[t]], axis=0)\n",
        "    emissions[t] = expec_emissions[t] + np.sqrt(variances) * npr.randn(emission_dim)"
      ]
    },
    {
      "cell_type": "code",
      "execution_count": 15,
      "metadata": {
        "colab": {
          "base_uri": "https://localhost:8080/",
          "height": 283
        },
        "id": "ILosAt5JZW_Y",
        "outputId": "87aa4fb7-c3a6-4d6d-e4e7-1c580584d3fc"
      },
      "outputs": [
        {
          "data": {
            "text/plain": [
              "(300.0, 400.0)"
            ]
          },
          "execution_count": 15,
          "metadata": {},
          "output_type": "execute_result"
        },
        {
          "data": {
            "image/png": "[encoded data removed]",
            "text/plain": [
              "<Figure size 432x288 with 3 Axes>"
            ]
          },
          "metadata": {
            "needs_background": "light"
          },
          "output_type": "display_data"
        }
      ],
      "source": [
        "fig, axs = plt.subplots(3, 1, sharex=True)\n",
        "axs[0].imshow(true_states.T, aspect=\"auto\", interpolation=\"none\", cmap=\"Greys\")\n",
        "axs[1].imshow(expec_emissions.T, aspect=\"auto\", interpolation=\"none\")\n",
        "axs[2].imshow(emissions.T, aspect=\"auto\", interpolation=\"none\")\n",
        "\n",
        "# axs[3].imshow(mean, aspect=\"auto\", interpolation=\"none\")\n",
        "\n",
        "plt.xlim(300, 400)"
      ]
    },
    {
      "attachments": {},
      "cell_type": "markdown",
      "metadata": {
        "id": "gwsCeZaEa9E9"
      },
      "source": [
        "# Inference via Gibbs sampling\n",
        "\n",
        "Let $z_{t,h} \\in \\{1,\\ldots,K\\}$ be the state of factor $h$ at time $t$. The emissions are,\n",
        "\n",
        "\\begin{align}\n",
        "x_{t,n} \\sim N(\\sum_h \\mu_{h,z_{t,h},n}, \\sum_h \\sigma_{h,z_{t,h},n}^2)\n",
        "\\end{align}\n",
        "\n",
        "However, we restrict to a simpler model where *all states from all factors* share the same variance $\\sigma_{h,z_{t,h},n}^2=\\sigma_{n}^2$\n",
        "\n",
        "\\begin{align}\n",
        "x_{t,n} \\sim N(\\sum_h \\mu_{h,z_{t,h},n}, \\sigma_{n}^2)\n",
        "\\end{align}\n",
        "\n",
        "We perform inference following (Ghahramani and Jordan, 1997), where we use Gibbs sampling to estimate the posterior probabilities, but an exact M-step to obtain the parameters from the posterior probabilities. See Murphy \"Machine Learning\" book for a variational mean field approximation. \n"
      ]
    },
    {
      "cell_type": "code",
      "execution_count": 20,
      "metadata": {
        "colab": {
          "base_uri": "https://localhost:8080/",
          "height": 49,
          "referenced_widgets": [
            "a07eb12e7dd3431c8bbd4d17cd68fbcf",
            "483b9de1ce56448f8928359156bcaa88",
            "02e99736ea0b4e34a44e0e7341f95e81",
            "7c025f8f92004269b9da7b1328eb2ad6",
            "d9ca16f50055499caa86c4145563351c",
            "b67835a15f6a4396807c33ea33ce5685",
            "09e20dbc1d984ed4b20c2db614e83341",
            "968dd89f95ac4ae2adee3f99d5b4ff47",
            "9bd454fb21fd4b98bcb228d525f58c6b",
            "ef698ab5a6044164afd90b0111195542",
            "60ed6e56d86242ba9759ad3952d71f99"
          ]
        },
        "id": "1upN7Ugmc6FL",
        "outputId": "fa5c61bd-e7de-46c5-ecc7-8de935713f0e"
      },
      "outputs": [
        {
          "data": {
            "application/vnd.jupyter.widget-view+json": {
              "model_id": "070fe60b7ebc4884b56c3922c0c84cfb",
              "version_major": 2,
              "version_minor": 0
            },
            "text/plain": [
              "  0%|          | 0/10 [00:00<?, ?it/s]"
            ]
          },
          "metadata": {},
          "output_type": "display_data"
        },
        {
          "name": "stdout",
          "output_type": "stream",
          "text": [
            "best fit after -1 iterations with ll=7054.871171317791\n"
          ]
        },
        {
          "data": {
            "application/vnd.jupyter.widget-view+json": {
              "model_id": "9d8ab0a92333448985d62f25634fd452",
              "version_major": 2,
              "version_minor": 0
            },
            "text/plain": [
              "  0%|          | 0/10 [00:00<?, ?it/s]"
            ]
          },
          "metadata": {},
          "output_type": "display_data"
        },
        {
          "name": "stdout",
          "output_type": "stream",
          "text": [
            "best fit after -1 iterations with ll=6673.654234189454\n"
          ]
        },
        {
          "data": {
            "application/vnd.jupyter.widget-view+json": {
              "model_id": "e579116fb91149c192a6bf53445bcb63",
              "version_major": 2,
              "version_minor": 0
            },
            "text/plain": [
              "  0%|          | 0/10 [00:00<?, ?it/s]"
            ]
          },
          "metadata": {},
          "output_type": "display_data"
        },
        {
          "name": "stdout",
          "output_type": "stream",
          "text": [
            "best fit after -1 iterations with ll=6348.71717470119\n"
          ]
        },
        {
          "data": {
            "application/vnd.jupyter.widget-view+json": {
              "model_id": "955b48ea2fd046bc9c91c31a714249ab",
              "version_major": 2,
              "version_minor": 0
            },
            "text/plain": [
              "  0%|          | 0/10 [00:00<?, ?it/s]"
            ]
          },
          "metadata": {},
          "output_type": "display_data"
        },
        {
          "name": "stdout",
          "output_type": "stream",
          "text": [
            "best fit after -1 iterations with ll=6389.942702788321\n"
          ]
        },
        {
          "data": {
            "application/vnd.jupyter.widget-view+json": {
              "model_id": "9d8c1892c60c47bcbd75ed7f0af3a4d1",
              "version_major": 2,
              "version_minor": 0
            },
            "text/plain": [
              "  0%|          | 0/10 [00:00<?, ?it/s]"
            ]
          },
          "metadata": {},
          "output_type": "display_data"
        },
        {
          "name": "stdout",
          "output_type": "stream",
          "text": [
            "best fit after -1 iterations with ll=6335.928097445356\n"
          ]
        },
        {
          "data": {
            "application/vnd.jupyter.widget-view+json": {
              "model_id": "b8ef7cf80da14557aaec4901df104957",
              "version_major": 2,
              "version_minor": 0
            },
            "text/plain": [
              "  0%|          | 0/10 [00:00<?, ?it/s]"
            ]
          },
          "metadata": {},
          "output_type": "display_data"
        },
        {
          "name": "stdout",
          "output_type": "stream",
          "text": [
            "best fit after -1 iterations with ll=6738.659877489525\n"
          ]
        },
        {
          "data": {
            "application/vnd.jupyter.widget-view+json": {
              "model_id": "4d373a88e7b047cdaf7b223eac442c2a",
              "version_major": 2,
              "version_minor": 0
            },
            "text/plain": [
              "  0%|          | 0/10 [00:00<?, ?it/s]"
            ]
          },
          "metadata": {},
          "output_type": "display_data"
        },
        {
          "name": "stdout",
          "output_type": "stream",
          "text": [
            "best fit after -1 iterations with ll=6389.94270278835\n"
          ]
        },
        {
          "data": {
            "application/vnd.jupyter.widget-view+json": {
              "model_id": "5861351206424a1fb5014745b94dc4f1",
              "version_major": 2,
              "version_minor": 0
            },
            "text/plain": [
              "  0%|          | 0/10 [00:00<?, ?it/s]"
            ]
          },
          "metadata": {},
          "output_type": "display_data"
        },
        {
          "name": "stdout",
          "output_type": "stream",
          "text": [
            "best fit after -1 iterations with ll=6738.659877489466\n"
          ]
        },
        {
          "data": {
            "application/vnd.jupyter.widget-view+json": {
              "model_id": "b872a507f4ef47a890dd3b1b9c596f38",
              "version_major": 2,
              "version_minor": 0
            },
            "text/plain": [
              "  0%|          | 0/10 [00:00<?, ?it/s]"
            ]
          },
          "metadata": {},
          "output_type": "display_data"
        },
        {
          "name": "stderr",
          "output_type": "stream",
          "text": [
            "/var/folders/1y/nqbtfm456r9439ry045681b00000gn/T/ipykernel_87631/3880358061.py:109: RuntimeWarning: invalid value encountered in sqrt\n",
            "/var/folders/1y/nqbtfm456r9439ry045681b00000gn/T/ipykernel_87631/3880358061.py:109: RuntimeWarning: invalid value encountered in sqrt\n",
            "/var/folders/1y/nqbtfm456r9439ry045681b00000gn/T/ipykernel_87631/3880358061.py:109: RuntimeWarning: invalid value encountered in sqrt\n",
            "/var/folders/1y/nqbtfm456r9439ry045681b00000gn/T/ipykernel_87631/3880358061.py:109: RuntimeWarning: invalid value encountered in sqrt\n",
            "/var/folders/1y/nqbtfm456r9439ry045681b00000gn/T/ipykernel_87631/3880358061.py:109: RuntimeWarning: invalid value encountered in sqrt\n",
            "/var/folders/1y/nqbtfm456r9439ry045681b00000gn/T/ipykernel_87631/3880358061.py:109: RuntimeWarning: invalid value encountered in sqrt\n",
            "/var/folders/1y/nqbtfm456r9439ry045681b00000gn/T/ipykernel_87631/3880358061.py:109: RuntimeWarning: invalid value encountered in sqrt\n",
            "/var/folders/1y/nqbtfm456r9439ry045681b00000gn/T/ipykernel_87631/3880358061.py:109: RuntimeWarning: invalid value encountered in sqrt\n",
            "/var/folders/1y/nqbtfm456r9439ry045681b00000gn/T/ipykernel_87631/3880358061.py:109: RuntimeWarning: invalid value encountered in sqrt\n",
            "/var/folders/1y/nqbtfm456r9439ry045681b00000gn/T/ipykernel_87631/3880358061.py:109: RuntimeWarning: invalid value encountered in sqrt\n",
            "/var/folders/1y/nqbtfm456r9439ry045681b00000gn/T/ipykernel_87631/3880358061.py:109: RuntimeWarning: invalid value encountered in sqrt\n",
            "/var/folders/1y/nqbtfm456r9439ry045681b00000gn/T/ipykernel_87631/3880358061.py:109: RuntimeWarning: invalid value encountered in sqrt\n",
            "/var/folders/1y/nqbtfm456r9439ry045681b00000gn/T/ipykernel_87631/3880358061.py:109: RuntimeWarning: invalid value encountered in sqrt\n",
            "/var/folders/1y/nqbtfm456r9439ry045681b00000gn/T/ipykernel_87631/3880358061.py:109: RuntimeWarning: invalid value encountered in sqrt\n",
            "/var/folders/1y/nqbtfm456r9439ry045681b00000gn/T/ipykernel_87631/3880358061.py:109: RuntimeWarning: invalid value encountered in sqrt\n",
            "/var/folders/1y/nqbtfm456r9439ry045681b00000gn/T/ipykernel_87631/3880358061.py:109: RuntimeWarning: invalid value encountered in sqrt\n",
            "/var/folders/1y/nqbtfm456r9439ry045681b00000gn/T/ipykernel_87631/3880358061.py:109: RuntimeWarning: invalid value encountered in sqrt\n",
            "/var/folders/1y/nqbtfm456r9439ry045681b00000gn/T/ipykernel_87631/3880358061.py:109: RuntimeWarning: invalid value encountered in sqrt\n"
          ]
        },
        {
          "name": "stdout",
          "output_type": "stream",
          "text": [
            "best fit after -1 iterations with ll=5999.999999999956\n"
          ]
        },
        {
          "data": {
            "application/vnd.jupyter.widget-view+json": {
              "model_id": "3f3a7812769d4d10a601a554debf0229",
              "version_major": 2,
              "version_minor": 0
            },
            "text/plain": [
              "  0%|          | 0/10 [00:00<?, ?it/s]"
            ]
          },
          "metadata": {},
          "output_type": "display_data"
        },
        {
          "name": "stdout",
          "output_type": "stream",
          "text": [
            "best fit after -1 iterations with ll=6738.65987748935\n",
            "Final: best total fit at run 0with ll=7054.871171317791\n"
          ]
        }
      ],
      "source": [
        "\n",
        "from scipy.stats import norm\n",
        "\n",
        "\n",
        "\n",
        "\n",
        "def _m_step(gammat_gibbs,states_outer_gibbs, trans_gibbs,emissions, params, hypers):\n",
        "    \"\"\"\n",
        "    Find parameters with exact M-step using state probabilities estimated from Gibbs sampling \n",
        "    \"\"\"\n",
        "    num_factors = hypers[\"num_factors\"]\n",
        "    num_states = hypers[\"num_states\"]\n",
        "    emission_dim = emissions.shape[1]\n",
        "    num_timesteps = gammat_gibbs.shape[0]\n",
        "    params_sample=params.copy()\n",
        "\n",
        "    # initial state probabilities\n",
        "    params_sample[\"initial_dist\"]=gammat_gibbs[0,:,:].T\n",
        "    aa=np.sum(gammat_gibbs[1:],axis=0) + 1e-32\n",
        "    transition_matrix=np.nan_to_num(np.sum(trans_gibbs,axis=0)/aa)\n",
        "    transition_matrix=np.transpose(transition_matrix,(2,0,1))\n",
        "    for h in range(num_factors):\n",
        "        P = transition_matrix[h]\n",
        "        P = np.where(P.sum(axis=0, keepdims=True) == 0, 1.0 / num_states, P)\n",
        "        transition_matrix[h]=P\n",
        "    # print(transition_matrix)\n",
        "    params_sample['transition_matrices']=transition_matrix\n",
        "    # means\n",
        "    # reshape arrays for convenience\n",
        "    gammat_re=np.reshape(gammat_gibbs,(num_timesteps,num_factors*num_states))\n",
        "    states_outer_gibbs_re=np.reshape(np.transpose(states_outer_gibbs,(0,1,3,2,4)),(num_timesteps,num_states*num_factors,num_factors*num_states))\n",
        "    means_first=np.matmul(emissions.T,gammat_re) # emission_dim x num_states*num_factors\n",
        "    means_second=np.sum(states_outer_gibbs_re,axis=0) # num_states*num_factors  x num_states*num_factors\n",
        "    # # check that means_second is symmetric\n",
        "    # a=means_second-means_second.T\n",
        "    # print(\"means_second is symmetric up to \"+str(a.max()))\n",
        "\n",
        "    means_second_inv=np.linalg.pinv(means_second)\n",
        "    # # check that means_second is symmetric\n",
        "    # a=means_second_inv-means_second_inv.T\n",
        "    # print(\"means_second_inv is symmetric up to \"+str(a.max()))\n",
        "    means_2d=np.matmul(means_first,means_second_inv) # emission_dim x num_states*num_factors\n",
        "    \n",
        "\n",
        "    # variances\n",
        "    Cnew_first=(1/num_timesteps)*np.matmul(emissions.T,emissions)\n",
        "    Cnew_sec1=(1/num_timesteps)*np.matmul(emissions.T,gammat_re) # D x num_states*num_factors\n",
        "    Cnew_sec=np.matmul(Cnew_sec1,means_2d.T)\n",
        "    # # check that Cnew_sec is symmetric\n",
        "    # a=Cnew_sec-Cnew_sec.T\n",
        "    # print(\"Cnew_sec is symmetric up to \"+str(a.max()))\n",
        "    Cnew=Cnew_first-Cnew_sec # D x D\n",
        "\n",
        "    means=np.transpose(np.reshape(means_2d,(emission_dim,num_states,num_factors)),(2,1,0))\n",
        "    # print('means.shape',means.shape)\n",
        "    params_sample[\"means\"]=means\n",
        "    params_sample[\"variances\"]=np.diag(Cnew)\n",
        "\n",
        "    \"\"\"Log-likelihood\n",
        "    \"\"\"\n",
        "\n",
        "    # first factor\n",
        "    Cinv=np.linalg.inv(np.diag(params_sample['variances']))\n",
        "    Q1=-(1/2)*np.trace(np.matmul(np.matmul(emissions,Cinv),emissions.T))\n",
        "    # print(Q1)\n",
        "    # second factor\n",
        "    Q21=np.matmul(Cinv,np.matmul(means_2d,gammat_re.T)) # emissions_dim x time\n",
        "    Q2=np.trace(np.matmul(emissions,Q21))\n",
        "    # print(Q2)\n",
        "    # third factor\n",
        "    Q31=np.matmul(states_outer_gibbs_re,means_2d.T).transpose(1,0,2).reshape(num_factors*num_states,num_timesteps*emission_dim)\n",
        "    Q31=np.matmul(Cinv,np.matmul(means_2d,Q31)).reshape(emission_dim,num_timesteps,emission_dim)\n",
        "    Q3=-(1/2)*np.sum(np.trace(Q31, axis1=0, axis2=2))\n",
        "    # print(Q1+Q2+Q3)\n",
        "    # fourth factor\n",
        "    pi1=np.reshape(params_sample[\"initial_dist\"].T,num_states*num_factors)\n",
        "    Q4=np.matmul(gammat_re[0,:],pi1)\n",
        "    # print(Q4)\n",
        "    # fifth factor\n",
        "    # print(trans_gibbs.shape)\n",
        "    Q51=trans_gibbs.reshape(num_timesteps-1,num_states,num_states*num_factors) # last dim=state at t-1\n",
        "    Q52=transition_matrix.transpose(1,2,0).reshape(num_states,num_states*num_factors).T\n",
        "    Q5=np.sum(np.trace(np.matmul(Q51,Q52),axis1=1,axis2=2))\n",
        "    # print(Q5)\n",
        "    lls=-(Q1+Q2+Q3+Q4+Q5)\n",
        "\n",
        "    return params_sample,lls\n",
        "\n",
        "\n",
        "def _gibbs_sample_states(h, states, emissions, params, hypers):\n",
        "    \"\"\"Sample sequence of states for factor h given the other factors.\n",
        "    \"\"\"\n",
        "    num_factors = hypers[\"num_factors\"]\n",
        "    num_states = hypers[\"num_states\"]\n",
        "    num_timesteps = states.shape[0]\n",
        "    means = params[\"means\"]\n",
        "    variances = params[\"variances\"]\n",
        "\n",
        "    lls = np.zeros((num_timesteps, num_states))\n",
        "    tmp_states = states.copy()\n",
        "    for k in range(num_states):\n",
        "        tmp_states[:, h] = k\n",
        "        expec_emissions = np.zeros_like(emissions)\n",
        "        var_emissions = np.zeros_like(emissions)\n",
        "        for j in range(num_factors):\n",
        "            expec_emissions += means[j, tmp_states[:, j], :]\n",
        "        var_emissions = variances\n",
        "\n",
        "      \n",
        "        lls[:, k] = norm(expec_emissions, np.sqrt(var_emissions)).logpdf(emissions).sum(axis=1)\n",
        "\n",
        "    return hmm_sample(params[\"initial_dist\"][h],\n",
        "                             params[\"transition_matrices\"][h][None, :, :],\n",
        "                             lls)  \n",
        "\n",
        "def _gibbs_all_factors(initial_states, emissions, params, hypers,options):\n",
        "    \"\"\"Gibbs samples of all factors, and it gives as outputs posterior prob obtained from a single Gibbs sample\n",
        "    needed for the m-step inference\n",
        "    \"\"\"\n",
        "    num_factors = hypers[\"num_factors\"]\n",
        "    num_states = hypers[\"num_states\"]\n",
        "    num_timesteps = initial_states.shape[0]\n",
        "    states=initial_states.copy()\n",
        "    # run num_iters steps of gibbs for states convergence\n",
        "    for itr in range(options[\"num_iters\"]):\n",
        "        for h in range(num_factors):\n",
        "            states[:, h] = _gibbs_sample_states(h, states, emissions, params, hypers)\n",
        "    # turn state sample at the end of the gibbs run into one-hot posterior probability distribution\n",
        "    # gammat=post prob [S_t^(m)]_k for time t, factor m, state k\n",
        "    # state_outer=post prob [S_t^(m1)]_k1 [S_t^(m2)]_k2 for time t, factors m1,m2, states k1,k2\n",
        "    # states=true_states.copy()\n",
        "    gammat=np.zeros((num_timesteps,num_states,num_factors))\n",
        "    for h in range(num_factors):\n",
        "            tmp_states=states[:,h]\n",
        "            gammat_h = np.zeros((tmp_states.size, num_states))\n",
        "            gammat_h[np.arange(tmp_states.size), tmp_states] = 1\n",
        "            gammat[:,:,h]=gammat_h\n",
        "    state_outer=np.zeros((num_timesteps,num_states,num_states,num_factors,num_factors))\n",
        "    for h1 in range(num_factors):\n",
        "            for h2 in range(num_factors):\n",
        "                    for t in range(num_timesteps):\n",
        "                        state_outer[t,:,:,h1,h2]=np.outer(gammat[t,:,h1],gammat[t,:,h2])\n",
        "\n",
        "    trans=np.zeros((num_timesteps-1,num_states,num_states,num_factors))\n",
        "    for h in range(num_factors):\n",
        "            for t in range(num_timesteps-1):\n",
        "                        trans[t,:,:,h]=np.outer(gammat[t+1,:,h],gammat[t,:,h])    \n",
        "    out=dict(gammat=gammat,\n",
        "             state_outer=state_outer,\n",
        "             trans=trans,\n",
        "             states=states)\n",
        "    return out\n",
        "\n",
        "def _gibbs_post_prob(initial_states, emissions, params, hypers, options):\n",
        "    \"\"\"This function runs the gibbs sampling for all factors num_gibbs times \n",
        "        and returns the posterior probability as the average over the num_gibbs runs\n",
        "        It can be parallelized\n",
        "    \"\"\"\n",
        "    num_gibbs=options[\"num_gibbs\"]\n",
        "    params=params.copy()   \n",
        "    gammat_runs=[]\n",
        "    states_outer_runs=[]\n",
        "    trans_runs=[]\n",
        "    states_run=[]\n",
        "    if options[\"parallel\"]:\n",
        "        out = Parallel(n_jobs=num_gibbs)(\n",
        "            delayed(_gibbs_all_factors)(initial_states, emissions, params, hypers,options)\n",
        "            for igibbs in range(num_gibbs))\n",
        "        # unpack outputs\n",
        "        for i in range(num_gibbs):\n",
        "            gammat_runs.append(out[i]['gammat'])\n",
        "            states_outer_runs.append(out[i]['state_outer'])\n",
        "            trans_runs.append(out[i]['trans'])\n",
        "            states_run.append(out[i]['states'])\n",
        "\n",
        "    else:\n",
        "        for igibbs in range(num_gibbs):\n",
        "            out=_gibbs_all_factors(initial_states, emissions, params, hypers,options)\n",
        "            gammat_runs.append(out['gammat'])\n",
        "            states_outer_runs.append(out['state_outer'])\n",
        "            trans_runs.append(out['trans'])\n",
        "            states_run.append(out['states'])\n",
        "\n",
        "    # average over independent runs of gibbs to obtain posterior prob for exact m-step below \n",
        "    gammat_gibbs=np.mean(gammat_runs,axis=0)\n",
        "    states_outer_gibbs=np.mean(states_outer_runs,axis=0)\n",
        "    trans_gibbs=np.mean(trans_runs,axis=0)\n",
        "    \n",
        "    return gammat_gibbs,states_outer_gibbs,trans_gibbs,states_run\n",
        "\n",
        "\n",
        "\n",
        "\n",
        "\n",
        "def gibbs(initial_states, emissions, params, hypers, options):\n",
        "    num_factors = hypers[\"num_factors\"]\n",
        "    params=params.copy()\n",
        "    samples = []\n",
        "    lls = []\n",
        "    posteriors = []\n",
        "    params_samples = []\n",
        "    for iopt in trange(options[\"num_runs\"]):\n",
        "#         print(\"iopt\",iopt)\n",
        "        \n",
        "        gammat_gibbs,states_outer_gibbs,trans_gibbs,states=_gibbs_post_prob(initial_states, emissions, params, hypers, options)\n",
        "\n",
        "        # get parameters using m_step\n",
        "        params,lls1 = _m_step(gammat_gibbs,states_outer_gibbs, trans_gibbs,emissions, params, hypers)\n",
        "\n",
        "        samples.append(states)\n",
        "        posteriors.append(gammat_gibbs)\n",
        "        lls.append(lls1)\n",
        "        params_samples.append(params)\n",
        "    \n",
        "    return samples, params_samples,lls, posteriors\n",
        "\n",
        "\n",
        "npr.seed(111)\n",
        "nruns=10\n",
        "ll_tot=[]\n",
        "params_tot=[]\n",
        "samples_tot=[]\n",
        "for i_runs in range(nruns):\n",
        "          initial_states = np.zeros((num_timesteps, num_factors), dtype=int)\n",
        "          # initialize parameters randomly\n",
        "          transition_probs=[]\n",
        "          initial_dist = np.ones((num_factors, num_states)) / num_states\n",
        "          init_transition_matrix = 0.9 * np.eye(num_states) + 0.1 * np.roll(np.eye(num_states), 1, axis=1)\n",
        "          init_transition_matrices = np.tile(transition_matrix, (num_factors, 1, 1))\n",
        "          init_emission_means = npr.rand(num_factors, num_states, emission_dim)\n",
        "          init_variances=np.ones(emission_dim)\n",
        "          initial_params=dict(transition_matrices=init_transition_matrices,\n",
        "                    means=init_emission_means,\n",
        "                    variances=init_variances,\n",
        "                    initial_dist=initial_dist)\n",
        "          options=dict(num_runs=10, # iterations of the Gibbs-Maximization loop\n",
        "                    num_gibbs=NumThread, # samples of Gibbs collected to estimate posterior probs\n",
        "                    num_iters=10, # iterations of gibbs sampling for convergence of a state sequence\n",
        "                    parallel=True)  # parallelize on num_gibbs\n",
        "\n",
        "          samples, params_samples, lls, _ = gibbs(initial_states, emissions, initial_params, hypers, options)\n",
        "\n",
        "          # samples, params_samples = gibbs(true_states, emissions, initial_params, hypers, options)\n",
        "\n",
        "          bestfit=np.argmax(lls)\n",
        "          print('best fit after '+str(bestfit)+' iterations with ll='+str(lls[bestfit]))\n",
        "          ll_tot.append(lls[bestfit])\n",
        "          samples_tot.append(samples[bestfit][0])\n",
        "          params_tot.append(params_samples[bestfit])\n",
        "\n",
        "bestfit=np.argmax(ll_tot)\n",
        "print('Final: best total fit at run '+str(bestfit)+'with ll='+str(ll_tot[bestfit]))\n",
        "params_fit=params_tot[bestfit]\n",
        "samples_fit=samples_tot[bestfit]\n"
      ]
    },
    {
      "cell_type": "code",
      "execution_count": 21,
      "metadata": {
        "colab": {
          "base_uri": "https://localhost:8080/",
          "height": 283
        },
        "id": "Zmcnua5fhttv",
        "outputId": "6da3ef8d-42e8-48df-ec0d-67cc3261200c"
      },
      "outputs": [
        {
          "name": "stdout",
          "output_type": "stream",
          "text": [
            "True  [[[0.9 0.1]\n",
            "  [0.1 0.9]]\n",
            "\n",
            " [[0.9 0.1]\n",
            "  [0.1 0.9]]]\n",
            "Inferred  [[[0.67134624 0.9979807 ]\n",
            "  [0.32931875 0.        ]]\n",
            "\n",
            " [[0.8855359  0.10597303]\n",
            "  [0.11342352 0.89499037]]]\n"
          ]
        },
        {
          "data": {
            "image/png": "[encoded data removed]",
            "text/plain": [
              "<Figure size 432x288 with 2 Axes>"
            ]
          },
          "metadata": {
            "needs_background": "light"
          },
          "output_type": "display_data"
        },
        {
          "data": {
            "image/png": "[encoded data removed]",
            "text/plain": [
              "<Figure size 720x504 with 5 Axes>"
            ]
          },
          "metadata": {
            "needs_background": "light"
          },
          "output_type": "display_data"
        },
        {
          "data": {
            "image/png": "[encoded data removed]",
            "text/plain": [
              "<Figure size 576x432 with 5 Axes>"
            ]
          },
          "metadata": {
            "needs_background": "light"
          },
          "output_type": "display_data"
        },
        {
          "data": {
            "image/png": "[encoded data removed]",
            "text/plain": [
              "<Figure size 576x432 with 3 Axes>"
            ]
          },
          "metadata": {
            "needs_background": "light"
          },
          "output_type": "display_data"
        },
        {
          "data": {
            "text/plain": [
              "Text(0, 0.5, 'LL')"
            ]
          },
          "execution_count": 21,
          "metadata": {},
          "output_type": "execute_result"
        },
        {
          "data": {
            "image/png": "[encoded data removed]",
            "text/plain": [
              "<Figure size 432x288 with 1 Axes>"
            ]
          },
          "metadata": {
            "needs_background": "light"
          },
          "output_type": "display_data"
        }
      ],
      "source": [
        "fig, axs = plt.subplots(2, 1, sharex=True)\n",
        "axs[0].imshow(true_states.T, aspect=\"auto\", interpolation=\"none\", cmap=\"Greys\")\n",
        "axs[1].imshow(samples_fit.T, aspect=\"auto\", interpolation=\"none\", cmap=\"Greys\")\n",
        "plt.xlim(300, 400)\n",
        "\n",
        "fig = plt.figure(figsize=(10, 7))\n",
        "rows = 2\n",
        "columns = num_factors\n",
        "values=[params['transition_matrices'].flatten(),params_fit['transition_matrices'].flatten()]\n",
        "vmin=np.min(values); vmax=np.max(values)\n",
        "for h in range(num_factors):\n",
        "          fig.add_subplot(rows, columns, h+1)\n",
        "          im=plt.imshow(params['transition_matrices'][h], aspect=\"auto\", cmap=\"Greys\")\n",
        "          plt.title(\"True tpm, factor \"+str(h))\n",
        "          fig.add_subplot(rows, columns, h+num_factors+1)\n",
        "          im=plt.imshow(params_fit['transition_matrices'][h], aspect=\"auto\", cmap=\"Greys\")\n",
        "          plt.title(\"Inferred tpm, factor \"+str(h))\n",
        "print('True ',params['transition_matrices'])\n",
        "print('Inferred ',params_fit['transition_matrices'])\n",
        "cbar_ax = fig.add_axes([0.95, 0.15, 0.05, 0.7])\n",
        "fig.colorbar(im, cax=cbar_ax)\n",
        "fig.tight_layout\n",
        "plt.show()\n",
        "\n",
        "vmin=np.min([params['means'].flatten(),params_fit['means'].flatten()]); vmax=np.max([params['means'].flatten(),params_fit['means'].flatten()])\n",
        "fig=plt.figure(figsize=(8,6))\n",
        "for h in range(num_factors):\n",
        "          ax = plt.subplot(rows, columns, h+1)\n",
        "          im=ax.imshow(params['means'][h], aspect=\"auto\", vmin=vmin, vmax=vmax)\n",
        "          # print('True means factor '+str(h)+' ',str(params['means'][h]))\n",
        "          ax.set_title(\"True means, factor \"+str(h))\n",
        "          ax = plt.subplot(rows, columns, h+1+num_factors)\n",
        "          im=ax.imshow(params_fit['means'][h], aspect=\"auto\", vmin=vmin, vmax=vmax)\n",
        "          # print('Inferred means factor '+str(h)+' ',str(params_fit['means'][h]))\n",
        "          ax.set_title(\"Inferred means, factor \"+str(h))\n",
        "cbar_ax = fig.add_axes([0.95, 0.15, 0.05, 0.7])\n",
        "fig.colorbar(im, cax=cbar_ax)\n",
        "fig.tight_layout\n",
        "plt.show()\n",
        "\n",
        "values=[params['variances'].flatten(),params_fit['variances'].flatten()]\n",
        "vmin=np.min(values); vmax=np.max(values)\n",
        "fig=plt.figure(figsize=(8,6))\n",
        "ax = plt.subplot(2, 1, 1)\n",
        "im=ax.imshow(np.expand_dims(params['variances'], axis=0), aspect=\"auto\", vmin=vmin, vmax=vmax)\n",
        "# print('True variances '+str(params['variances']))\n",
        "ax.set_title(\"True variances\")\n",
        "ax = plt.subplot(2,1,2)\n",
        "im=ax.imshow(np.expand_dims(params_fit['variances'], axis=0), aspect=\"auto\", vmin=vmin, vmax=vmax)\n",
        "# print('Inferred variances '+str(params_fit['variances']))\n",
        "ax.set_title(\"Inferred variances\")\n",
        "cbar_ax = fig.add_axes([0.95, 0.15, 0.05, 0.7])\n",
        "fig.colorbar(im, cax=cbar_ax)\n",
        "fig.tight_layout\n",
        "plt.show()\n",
        "\n",
        "fig=plt.figure()\n",
        "plt.plot(ll_tot)\n",
        "plt.title('Log-likelihood')\n",
        "plt.xlabel('Iterations')\n",
        "plt.ylabel('LL')\n"
      ]
    },
    {
      "cell_type": "code",
      "execution_count": null,
      "metadata": {},
      "outputs": [],
      "source": []
    }
  ],
  "metadata": {
    "colab": {
      "provenance": []
    },
    "kernelspec": {
      "display_name": "Python 3",
      "name": "python3"
    },
    "language_info": {
      "codemirror_mode": {
        "name": "ipython",
        "version": 3
      },
      "file_extension": ".py",
      "mimetype": "text/x-python",
      "name": "python",
      "nbconvert_exporter": "python",
      "pygments_lexer": "ipython3",
      "version": "3.8.13"
    },
    "widgets": {
      "application/vnd.jupyter.widget-state+json": {
        "02e99736ea0b4e34a44e0e7341f95e81": {
          "model_module": "@jupyter-widgets/controls",
          "model_module_version": "1.5.0",
          "model_name": "FloatProgressModel",
          "state": {
            "_dom_classes": [],
            "_model_module": "@jupyter-widgets/controls",
            "_model_module_version": "1.5.0",
            "_model_name": "FloatProgressModel",
            "_view_count": null,
            "_view_module": "@jupyter-widgets/controls",
            "_view_module_version": "1.5.0",
            "_view_name": "ProgressView",
            "bar_style": "success",
            "description": "",
            "description_tooltip": null,
            "layout": "IPY_MODEL_968dd89f95ac4ae2adee3f99d5b4ff47",
            "max": 100,
            "min": 0,
            "orientation": "horizontal",
            "style": "IPY_MODEL_9bd454fb21fd4b98bcb228d525f58c6b",
            "value": 100
          }
        },
        "09e20dbc1d984ed4b20c2db614e83341": {
          "model_module": "@jupyter-widgets/controls",
          "model_module_version": "1.5.0",
          "model_name": "DescriptionStyleModel",
          "state": {
            "_model_module": "@jupyter-widgets/controls",
            "_model_module_version": "1.5.0",
            "_model_name": "DescriptionStyleModel",
            "_view_count": null,
            "_view_module": "@jupyter-widgets/base",
            "_view_module_version": "1.2.0",
            "_view_name": "StyleView",
            "description_width": ""
          }
        },
        "483b9de1ce56448f8928359156bcaa88": {
          "model_module": "@jupyter-widgets/controls",
          "model_module_version": "1.5.0",
          "model_name": "HTMLModel",
          "state": {
            "_dom_classes": [],
            "_model_module": "@jupyter-widgets/controls",
            "_model_module_version": "1.5.0",
            "_model_name": "HTMLModel",
            "_view_count": null,
            "_view_module": "@jupyter-widgets/controls",
            "_view_module_version": "1.5.0",
            "_view_name": "HTMLView",
            "description": "",
            "description_tooltip": null,
            "layout": "IPY_MODEL_b67835a15f6a4396807c33ea33ce5685",
            "placeholder": "​",
            "style": "IPY_MODEL_09e20dbc1d984ed4b20c2db614e83341",
            "value": "100%"
          }
        },
        "60ed6e56d86242ba9759ad3952d71f99": {
          "model_module": "@jupyter-widgets/controls",
          "model_module_version": "1.5.0",
          "model_name": "DescriptionStyleModel",
          "state": {
            "_model_module": "@jupyter-widgets/controls",
            "_model_module_version": "1.5.0",
            "_model_name": "DescriptionStyleModel",
            "_view_count": null,
            "_view_module": "@jupyter-widgets/base",
            "_view_module_version": "1.2.0",
            "_view_name": "StyleView",
            "description_width": ""
          }
        },
        "7c025f8f92004269b9da7b1328eb2ad6": {
          "model_module": "@jupyter-widgets/controls",
          "model_module_version": "1.5.0",
          "model_name": "HTMLModel",
          "state": {
            "_dom_classes": [],
            "_model_module": "@jupyter-widgets/controls",
            "_model_module_version": "1.5.0",
            "_model_name": "HTMLModel",
            "_view_count": null,
            "_view_module": "@jupyter-widgets/controls",
            "_view_module_version": "1.5.0",
            "_view_name": "HTMLView",
            "description": "",
            "description_tooltip": null,
            "layout": "IPY_MODEL_ef698ab5a6044164afd90b0111195542",
            "placeholder": "​",
            "style": "IPY_MODEL_60ed6e56d86242ba9759ad3952d71f99",
            "value": " 100/100 [00:01&lt;00:00, 75.60it/s]"
          }
        },
        "968dd89f95ac4ae2adee3f99d5b4ff47": {
          "model_module": "@jupyter-widgets/base",
          "model_module_version": "1.2.0",
          "model_name": "LayoutModel",
          "state": {
            "_model_module": "@jupyter-widgets/base",
            "_model_module_version": "1.2.0",
            "_model_name": "LayoutModel",
            "_view_count": null,
            "_view_module": "@jupyter-widgets/base",
            "_view_module_version": "1.2.0",
            "_view_name": "LayoutView",
            "align_content": null,
            "align_items": null,
            "align_self": null,
            "border": null,
            "bottom": null,
            "display": null,
            "flex": null,
            "flex_flow": null,
            "grid_area": null,
            "grid_auto_columns": null,
            "grid_auto_flow": null,
            "grid_auto_rows": null,
            "grid_column": null,
            "grid_gap": null,
            "grid_row": null,
            "grid_template_areas": null,
            "grid_template_columns": null,
            "grid_template_rows": null,
            "height": null,
            "justify_content": null,
            "justify_items": null,
            "left": null,
            "margin": null,
            "max_height": null,
            "max_width": null,
            "min_height": null,
            "min_width": null,
            "object_fit": null,
            "object_position": null,
            "order": null,
            "overflow": null,
            "overflow_x": null,
            "overflow_y": null,
            "padding": null,
            "right": null,
            "top": null,
            "visibility": null,
            "width": null
          }
        },
        "9bd454fb21fd4b98bcb228d525f58c6b": {
          "model_module": "@jupyter-widgets/controls",
          "model_module_version": "1.5.0",
          "model_name": "ProgressStyleModel",
          "state": {
            "_model_module": "@jupyter-widgets/controls",
            "_model_module_version": "1.5.0",
            "_model_name": "ProgressStyleModel",
            "_view_count": null,
            "_view_module": "@jupyter-widgets/base",
            "_view_module_version": "1.2.0",
            "_view_name": "StyleView",
            "bar_color": null,
            "description_width": ""
          }
        },
        "a07eb12e7dd3431c8bbd4d17cd68fbcf": {
          "model_module": "@jupyter-widgets/controls",
          "model_module_version": "1.5.0",
          "model_name": "HBoxModel",
          "state": {
            "_dom_classes": [],
            "_model_module": "@jupyter-widgets/controls",
            "_model_module_version": "1.5.0",
            "_model_name": "HBoxModel",
            "_view_count": null,
            "_view_module": "@jupyter-widgets/controls",
            "_view_module_version": "1.5.0",
            "_view_name": "HBoxView",
            "box_style": "",
            "children": [
              "IPY_MODEL_483b9de1ce56448f8928359156bcaa88",
              "IPY_MODEL_02e99736ea0b4e34a44e0e7341f95e81",
              "IPY_MODEL_7c025f8f92004269b9da7b1328eb2ad6"
            ],
            "layout": "IPY_MODEL_d9ca16f50055499caa86c4145563351c"
          }
        },
        "b67835a15f6a4396807c33ea33ce5685": {
          "model_module": "@jupyter-widgets/base",
          "model_module_version": "1.2.0",
          "model_name": "LayoutModel",
          "state": {
            "_model_module": "@jupyter-widgets/base",
            "_model_module_version": "1.2.0",
            "_model_name": "LayoutModel",
            "_view_count": null,
            "_view_module": "@jupyter-widgets/base",
            "_view_module_version": "1.2.0",
            "_view_name": "LayoutView",
            "align_content": null,
            "align_items": null,
            "align_self": null,
            "border": null,
            "bottom": null,
            "display": null,
            "flex": null,
            "flex_flow": null,
            "grid_area": null,
            "grid_auto_columns": null,
            "grid_auto_flow": null,
            "grid_auto_rows": null,
            "grid_column": null,
            "grid_gap": null,
            "grid_row": null,
            "grid_template_areas": null,
            "grid_template_columns": null,
            "grid_template_rows": null,
            "height": null,
            "justify_content": null,
            "justify_items": null,
            "left": null,
            "margin": null,
            "max_height": null,
            "max_width": null,
            "min_height": null,
            "min_width": null,
            "object_fit": null,
            "object_position": null,
            "order": null,
            "overflow": null,
            "overflow_x": null,
            "overflow_y": null,
            "padding": null,
            "right": null,
            "top": null,
            "visibility": null,
            "width": null
          }
        },
        "d9ca16f50055499caa86c4145563351c": {
          "model_module": "@jupyter-widgets/base",
          "model_module_version": "1.2.0",
          "model_name": "LayoutModel",
          "state": {
            "_model_module": "@jupyter-widgets/base",
            "_model_module_version": "1.2.0",
            "_model_name": "LayoutModel",
            "_view_count": null,
            "_view_module": "@jupyter-widgets/base",
            "_view_module_version": "1.2.0",
            "_view_name": "LayoutView",
            "align_content": null,
            "align_items": null,
            "align_self": null,
            "border": null,
            "bottom": null,
            "display": null,
            "flex": null,
            "flex_flow": null,
            "grid_area": null,
            "grid_auto_columns": null,
            "grid_auto_flow": null,
            "grid_auto_rows": null,
            "grid_column": null,
            "grid_gap": null,
            "grid_row": null,
            "grid_template_areas": null,
            "grid_template_columns": null,
            "grid_template_rows": null,
            "height": null,
            "justify_content": null,
            "justify_items": null,
            "left": null,
            "margin": null,
            "max_height": null,
            "max_width": null,
            "min_height": null,
            "min_width": null,
            "object_fit": null,
            "object_position": null,
            "order": null,
            "overflow": null,
            "overflow_x": null,
            "overflow_y": null,
            "padding": null,
            "right": null,
            "top": null,
            "visibility": null,
            "width": null
          }
        },
        "ef698ab5a6044164afd90b0111195542": {
          "model_module": "@jupyter-widgets/base",
          "model_module_version": "1.2.0",
          "model_name": "LayoutModel",
          "state": {
            "_model_module": "@jupyter-widgets/base",
            "_model_module_version": "1.2.0",
            "_model_name": "LayoutModel",
            "_view_count": null,
            "_view_module": "@jupyter-widgets/base",
            "_view_module_version": "1.2.0",
            "_view_name": "LayoutView",
            "align_content": null,
            "align_items": null,
            "align_self": null,
            "border": null,
            "bottom": null,
            "display": null,
            "flex": null,
            "flex_flow": null,
            "grid_area": null,
            "grid_auto_columns": null,
            "grid_auto_flow": null,
            "grid_auto_rows": null,
            "grid_column": null,
            "grid_gap": null,
            "grid_row": null,
            "grid_template_areas": null,
            "grid_template_columns": null,
            "grid_template_rows": null,
            "height": null,
            "justify_content": null,
            "justify_items": null,
            "left": null,
            "margin": null,
            "max_height": null,
            "max_width": null,
            "min_height": null,
            "min_width": null,
            "object_fit": null,
            "object_position": null,
            "order": null,
            "overflow": null,
            "overflow_x": null,
            "overflow_y": null,
            "padding": null,
            "right": null,
            "top": null,
            "visibility": null,
            "width": null
          }
        }
      }
    }
  },
  "nbformat": 4,
  "nbformat_minor": 0
}
