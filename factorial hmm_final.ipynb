{
  "cells": [
    {
      "cell_type": "code",
      "execution_count": 1,
      "metadata": {
        "id": "mk2LUTyQX_OM"
      },
      "outputs": [
        {
          "name": "stdout",
          "output_type": "stream",
          "text": [
            "Parallel processing with 18 cores\n"
          ]
        }
      ],
      "source": [
        "import numpy as np\n",
        "import numpy.random as npr\n",
        "\n",
        "import matplotlib.pyplot as plt\n",
        "from tqdm.auto import trange \n",
        "\n",
        "import ssm\n",
        "from ssm.messages import hmm_sample\n",
        "\n",
        "from joblib import Parallel, delayed\n",
        "import multiprocessing\n",
        "NumThread=(multiprocessing.cpu_count()-1)*2 # sets number of workers based on cpus on current machine\n",
        "print('Parallel processing with '+str(NumThread)+' cores')\n",
        "\n",
        "from util_factorial_hmm import gibbs"
      ]
    },
    {
      "cell_type": "markdown",
      "metadata": {
        "id": "RQTAkkHHYTdD"
      },
      "source": [
        "# Sample synthetic data"
      ]
    },
    {
      "cell_type": "code",
      "execution_count": 8,
      "metadata": {
        "id": "UHNgIIJPYfSc"
      },
      "outputs": [],
      "source": [
        "num_factors = 3\n",
        "num_states = 2\n",
        "emission_dim = 10\n",
        "\n",
        "hypers = dict(num_factors=num_factors,\n",
        "              num_states=num_states,\n",
        "              emission_dim=emission_dim)\n",
        "\n",
        "num_timesteps = 5000\n",
        "\n",
        "initial_dist = np.ones((num_factors, num_states)) / num_states\n",
        "transition_matrix = 0.9 * np.eye(num_states) + 0.1 * np.roll(np.eye(num_states), 1, axis=1)\n",
        "transition_matrices = np.tile(transition_matrix, (num_factors, 1, 1))\n",
        "\n",
        "means = 3 * npr.randn(num_factors, num_states, emission_dim)\n",
        "# means = np.zeros((num_factors, num_states, emission_dim))\n",
        "# means[1] = npr.gamma(10.0, 1.0, size=(num_states, emission_dim))\n",
        "# variances = 0.1 * np.ones((num_factors, num_states, emission_dim))\n",
        "variances=0.5*np.ones(emission_dim)\n",
        "\n",
        "params = dict(initial_dist=initial_dist,\n",
        "              transition_matrices=transition_matrices,\n",
        "              means=means,\n",
        "              variances=variances)\n",
        "\n",
        "true_states = np.zeros((num_timesteps, num_factors), dtype=int)\n",
        "emissions = np.zeros((num_timesteps, emission_dim))\n",
        "expec_emissions = np.zeros((num_timesteps, emission_dim))\n",
        "\n",
        "npr.seed(0)\n",
        "for t in range(num_timesteps):\n",
        "    for h in range(num_factors):\n",
        "        if t > 0:\n",
        "            true_states[t, h] = \\\n",
        "              npr.choice(num_states, p=transition_matrices[h, true_states[t-1, h]])\n",
        "        \n",
        "    # mean = np.zeros(emission_dim)\n",
        "    # for h in range(num_factors):      \n",
        "    #     mean += means[h, states[t,h], :]\n",
        "    expec_emissions[t] = np.sum(means[np.arange(num_factors), true_states[t]], axis=0)\n",
        "    emissions[t] = expec_emissions[t] + np.sqrt(variances) * npr.randn(emission_dim)"
      ]
    },
    {
      "cell_type": "code",
      "execution_count": 9,
      "metadata": {
        "colab": {
          "base_uri": "https://localhost:8080/",
          "height": 283
        },
        "id": "ILosAt5JZW_Y",
        "outputId": "87aa4fb7-c3a6-4d6d-e4e7-1c580584d3fc"
      },
      "outputs": [
        {
          "data": {
            "text/plain": [
              "(300.0, 500.0)"
            ]
          },
          "execution_count": 9,
          "metadata": {},
          "output_type": "execute_result"
        },
        {
          "data": {
            "image/png": "[encoded data removed]",
            "text/plain": [
              "<Figure size 432x288 with 3 Axes>"
            ]
          },
          "metadata": {
            "needs_background": "light"
          },
          "output_type": "display_data"
        }
      ],
      "source": [
        "fig, axs = plt.subplots(3, 1, sharex=True)\n",
        "axs[0].imshow(true_states.T, aspect=\"auto\", interpolation=\"none\", cmap=\"Greys\")\n",
        "axs[1].imshow(expec_emissions.T, aspect=\"auto\", interpolation=\"none\")\n",
        "axs[2].imshow(emissions.T, aspect=\"auto\", interpolation=\"none\")\n",
        "\n",
        "# axs[3].imshow(mean, aspect=\"auto\", interpolation=\"none\")\n",
        "\n",
        "plt.xlim(300, 500)"
      ]
    },
    {
      "attachments": {},
      "cell_type": "markdown",
      "metadata": {
        "id": "gwsCeZaEa9E9"
      },
      "source": [
        "# Inference via Gibbs sampling\n",
        "\n",
        "Let $z_{t,h} \\in \\{1,\\ldots,K\\}$ be the state of factor $h$ at time $t$. The emissions are,\n",
        "\n",
        "\\begin{align}\n",
        "x_{t,n} \\sim N(\\sum_h \\mu_{h,z_{t,h},n}, \\sum_h \\sigma_{h,z_{t,h},n}^2)\n",
        "\\end{align}\n",
        "\n",
        "However, we restrict to a simpler model where *all states from all factors* share the same variance $\\sigma_{h,z_{t,h},n}^2=\\sigma_{n}^2$\n",
        "\n",
        "\\begin{align}\n",
        "x_{t,n} \\sim N(\\sum_h \\mu_{h,z_{t,h},n}, \\sigma_{n}^2)\n",
        "\\end{align}\n",
        "\n",
        "We perform inference following (Ghahramani and Jordan, 1997), where we use Gibbs sampling to estimate the posterior probabilities, but an exact M-step to obtain the parameters from the posterior probabilities. See Murphy \"Machine Learning\" book for a variational mean field approximation. \n"
      ]
    },
    {
      "cell_type": "code",
      "execution_count": 10,
      "metadata": {
        "colab": {
          "base_uri": "https://localhost:8080/",
          "height": 49,
          "referenced_widgets": [
            "a07eb12e7dd3431c8bbd4d17cd68fbcf",
            "483b9de1ce56448f8928359156bcaa88",
            "02e99736ea0b4e34a44e0e7341f95e81",
            "7c025f8f92004269b9da7b1328eb2ad6",
            "d9ca16f50055499caa86c4145563351c",
            "b67835a15f6a4396807c33ea33ce5685",
            "09e20dbc1d984ed4b20c2db614e83341",
            "968dd89f95ac4ae2adee3f99d5b4ff47",
            "9bd454fb21fd4b98bcb228d525f58c6b",
            "ef698ab5a6044164afd90b0111195542",
            "60ed6e56d86242ba9759ad3952d71f99"
          ]
        },
        "id": "1upN7Ugmc6FL",
        "outputId": "fa5c61bd-e7de-46c5-ecc7-8de935713f0e"
      },
      "outputs": [
        {
          "data": {
            "application/vnd.jupyter.widget-view+json": {
              "model_id": "7337c51ba92d4b369227cd6033269d2a",
              "version_major": 2,
              "version_minor": 0
            },
            "text/plain": [
              "  0%|          | 0/10 [00:00<?, ?it/s]"
            ]
          },
          "metadata": {},
          "output_type": "display_data"
        },
        {
          "data": {
            "application/vnd.jupyter.widget-view+json": {
              "model_id": "10323ccf7fbd41979ce958f262401a92",
              "version_major": 2,
              "version_minor": 0
            },
            "text/plain": [
              "  0%|          | 0/10 [00:00<?, ?it/s]"
            ]
          },
          "metadata": {},
          "output_type": "display_data"
        },
        {
          "data": {
            "application/vnd.jupyter.widget-view+json": {
              "model_id": "5307ae93034e4ed090597dad4ac71ffe",
              "version_major": 2,
              "version_minor": 0
            },
            "text/plain": [
              "  0%|          | 0/10 [00:00<?, ?it/s]"
            ]
          },
          "metadata": {},
          "output_type": "display_data"
        },
        {
          "data": {
            "application/vnd.jupyter.widget-view+json": {
              "model_id": "c6d89d1d349a4935b64f40d5cddc611b",
              "version_major": 2,
              "version_minor": 0
            },
            "text/plain": [
              "  0%|          | 0/10 [00:00<?, ?it/s]"
            ]
          },
          "metadata": {},
          "output_type": "display_data"
        },
        {
          "data": {
            "application/vnd.jupyter.widget-view+json": {
              "model_id": "dc89b306fca341c2bbe521a0721fddaf",
              "version_major": 2,
              "version_minor": 0
            },
            "text/plain": [
              "  0%|          | 0/10 [00:00<?, ?it/s]"
            ]
          },
          "metadata": {},
          "output_type": "display_data"
        },
        {
          "name": "stdout",
          "output_type": "stream",
          "text": [
            "Final: best fit at run 0with ll=2.5283258358913203\n"
          ]
        }
      ],
      "source": [
        "npr.seed(112)\n",
        "nruns=5\n",
        "ll_tot=[]\n",
        "params_tot=[]\n",
        "samples_tot=[]\n",
        "for i_runs in range(nruns):\n",
        "          initial_states = np.zeros((num_timesteps, num_factors), dtype=int)\n",
        "          # initialize parameters randomly\n",
        "          transition_probs=[]\n",
        "          initial_dist = np.ones((num_factors, num_states)) / num_states\n",
        "          init_transition_matrix = 0.8 * np.eye(num_states) + 0.2 * np.roll(np.eye(num_states), 1, axis=1)\n",
        "          init_transition_matrices = np.tile(transition_matrix, (num_factors, 1, 1))\n",
        "          init_emission_means = npr.rand(num_factors, num_states, emission_dim)\n",
        "          init_variances=np.ones(emission_dim)\n",
        "          initial_params=dict(transition_matrices=init_transition_matrices,\n",
        "                    means=init_emission_means,\n",
        "                    variances=init_variances,\n",
        "                    initial_dist=initial_dist)\n",
        "          options=dict(num_runs=10, # iterations of the Gibbs-Maximization loop\n",
        "                    num_gibbs=NumThread, # samples of Gibbs collected to estimate posterior probs\n",
        "                    num_iters=10, # iterations of gibbs sampling for convergence of a state sequence\n",
        "                    parallel=True)  # parallelize on num_gibbs\n",
        "\n",
        "          samples, params_samples, lls, _ = gibbs(initial_states, emissions, initial_params, hypers, options)\n",
        "\n",
        "          # samples, params_samples = gibbs(true_states, emissions, initial_params, hypers, options)\n",
        "\n",
        "          ll_tot.append(lls[-1]/num_timesteps)\n",
        "          samples_tot.append(samples[-1][0])\n",
        "          params_tot.append(params_samples[-1])\n",
        "\n",
        "\n",
        "bestfit=np.argmax(ll_tot)\n",
        "print('Final: best fit at run '+str(bestfit)+'with ll='+str(ll_tot[bestfit]))\n",
        "params_fit=params_tot[bestfit]\n",
        "samples_fit=samples_tot[bestfit]"
      ]
    },
    {
      "cell_type": "code",
      "execution_count": 11,
      "metadata": {
        "colab": {
          "base_uri": "https://localhost:8080/",
          "height": 283
        },
        "id": "Zmcnua5fhttv",
        "outputId": "6da3ef8d-42e8-48df-ec0d-67cc3261200c"
      },
      "outputs": [
        {
          "name": "stdout",
          "output_type": "stream",
          "text": [
            "True  [[[0.9 0.1]\n",
            "  [0.1 0.9]]\n",
            "\n",
            " [[0.9 0.1]\n",
            "  [0.1 0.9]]\n",
            "\n",
            " [[0.9 0.1]\n",
            "  [0.1 0.9]]]\n",
            "Inferred  [[[0.89619943 0.09952978]\n",
            "  [0.10380057 0.90047022]]\n",
            "\n",
            " [[0.89824121 0.09306779]\n",
            "  [0.10217755 0.90654921]]\n",
            "\n",
            " [[0.90617482 0.09341317]\n",
            "  [0.09422614 0.90618762]]]\n"
          ]
        },
        {
          "data": {
            "image/png": "[encoded data removed]",
            "text/plain": [
              "<Figure size 432x288 with 2 Axes>"
            ]
          },
          "metadata": {
            "needs_background": "light"
          },
          "output_type": "display_data"
        },
        {
          "data": {
            "image/png": "[encoded data removed]",
            "text/plain": [
              "<Figure size 720x504 with 7 Axes>"
            ]
          },
          "metadata": {
            "needs_background": "light"
          },
          "output_type": "display_data"
        },
        {
          "data": {
            "image/png": "[encoded data removed]",
            "text/plain": [
              "<Figure size 576x432 with 7 Axes>"
            ]
          },
          "metadata": {
            "needs_background": "light"
          },
          "output_type": "display_data"
        },
        {
          "data": {
            "image/png": "[encoded data removed]",
            "text/plain": [
              "<Figure size 576x432 with 3 Axes>"
            ]
          },
          "metadata": {
            "needs_background": "light"
          },
          "output_type": "display_data"
        },
        {
          "data": {
            "text/plain": [
              "Text(0, 0.5, 'LL')"
            ]
          },
          "execution_count": 11,
          "metadata": {},
          "output_type": "execute_result"
        },
        {
          "data": {
            "image/png": "[encoded data removed]",
            "text/plain": [
              "<Figure size 432x288 with 1 Axes>"
            ]
          },
          "metadata": {
            "needs_background": "light"
          },
          "output_type": "display_data"
        }
      ],
      "source": [
        "fig, axs = plt.subplots(2, 1, sharex=True)\n",
        "axs[0].imshow(true_states.T, aspect=\"auto\", interpolation=\"none\", cmap=\"Greys\")\n",
        "axs[1].imshow(samples_fit.T, aspect=\"auto\", interpolation=\"none\", cmap=\"Greys\")\n",
        "plt.xlim(300, 400)\n",
        "\n",
        "fig = plt.figure(figsize=(10, 7))\n",
        "rows = 2\n",
        "columns = num_factors\n",
        "values=[params['transition_matrices'].flatten(),params_fit['transition_matrices'].flatten()]\n",
        "vmin=np.min(values); vmax=np.max(values)\n",
        "for h in range(num_factors):\n",
        "          fig.add_subplot(rows, columns, h+1)\n",
        "          im=plt.imshow(params['transition_matrices'][h], aspect=\"auto\", cmap=\"Greys\")\n",
        "          plt.title(\"True tpm, factor \"+str(h))\n",
        "          fig.add_subplot(rows, columns, h+num_factors+1)\n",
        "          im=plt.imshow(params_fit['transition_matrices'][h], aspect=\"auto\", cmap=\"Greys\")\n",
        "          plt.title(\"Inferred tpm, factor \"+str(h))\n",
        "print('True ',params['transition_matrices'])\n",
        "print('Inferred ',params_fit['transition_matrices'])\n",
        "cbar_ax = fig.add_axes([0.95, 0.15, 0.05, 0.7])\n",
        "fig.colorbar(im, cax=cbar_ax)\n",
        "fig.tight_layout\n",
        "plt.show()\n",
        "\n",
        "vmin=np.min([params['means'].flatten(),params_fit['means'].flatten()]); vmax=np.max([params['means'].flatten(),params_fit['means'].flatten()])\n",
        "fig=plt.figure(figsize=(8,6))\n",
        "for h in range(num_factors):\n",
        "          ax = plt.subplot(rows, columns, h+1)\n",
        "          im=ax.imshow(params['means'][h], aspect=\"auto\", vmin=vmin, vmax=vmax)\n",
        "          # print('True means factor '+str(h)+' ',str(params['means'][h]))\n",
        "          ax.set_title(\"True means, factor \"+str(h))\n",
        "          ax = plt.subplot(rows, columns, h+1+num_factors)\n",
        "          im=ax.imshow(params_fit['means'][h], aspect=\"auto\", vmin=vmin, vmax=vmax)\n",
        "          # print('Inferred means factor '+str(h)+' ',str(params_fit['means'][h]))\n",
        "          ax.set_title(\"Inferred means, factor \"+str(h))\n",
        "cbar_ax = fig.add_axes([0.95, 0.15, 0.05, 0.7])\n",
        "fig.colorbar(im, cax=cbar_ax)\n",
        "fig.tight_layout\n",
        "plt.show()\n",
        "\n",
        "values=[params['variances'].flatten(),params_fit['variances'].flatten()]\n",
        "vmin=np.min(values); vmax=np.max(values)\n",
        "fig=plt.figure(figsize=(8,6))\n",
        "ax = plt.subplot(2, 1, 1)\n",
        "im=ax.imshow(np.expand_dims(params['variances'], axis=0), aspect=\"auto\", vmin=vmin, vmax=vmax)\n",
        "# print('True variances '+str(params['variances']))\n",
        "ax.set_title(\"True variances\")\n",
        "ax = plt.subplot(2,1,2)\n",
        "im=ax.imshow(np.expand_dims(params_fit['variances'], axis=0), aspect=\"auto\", vmin=vmin, vmax=vmax)\n",
        "# print('Inferred variances '+str(params_fit['variances']))\n",
        "ax.set_title(\"Inferred variances\")\n",
        "cbar_ax = fig.add_axes([0.95, 0.15, 0.05, 0.7])\n",
        "fig.colorbar(im, cax=cbar_ax)\n",
        "fig.tight_layout\n",
        "plt.show()\n",
        "\n",
        "fig=plt.figure()\n",
        "plt.plot(ll_tot)\n",
        "plt.title('Log-likelihood')\n",
        "plt.xlabel('Iterations')\n",
        "plt.ylabel('LL')\n"
      ]
    },
    {
      "cell_type": "code",
      "execution_count": null,
      "metadata": {},
      "outputs": [],
      "source": []
    }
  ],
  "metadata": {
    "colab": {
      "provenance": []
    },
    "kernelspec": {
      "display_name": "Python 3",
      "name": "python3"
    },
    "language_info": {
      "codemirror_mode": {
        "name": "ipython",
        "version": 3
      },
      "file_extension": ".py",
      "mimetype": "text/x-python",
      "name": "python",
      "nbconvert_exporter": "python",
      "pygments_lexer": "ipython3",
      "version": "3.8.13"
    },
    "widgets": {
      "application/vnd.jupyter.widget-state+json": {
        "02e99736ea0b4e34a44e0e7341f95e81": {
          "model_module": "@jupyter-widgets/controls",
          "model_module_version": "1.5.0",
          "model_name": "FloatProgressModel",
          "state": {
            "_dom_classes": [],
            "_model_module": "@jupyter-widgets/controls",
            "_model_module_version": "1.5.0",
            "_model_name": "FloatProgressModel",
            "_view_count": null,
            "_view_module": "@jupyter-widgets/controls",
            "_view_module_version": "1.5.0",
            "_view_name": "ProgressView",
            "bar_style": "success",
            "description": "",
            "description_tooltip": null,
            "layout": "IPY_MODEL_968dd89f95ac4ae2adee3f99d5b4ff47",
            "max": 100,
            "min": 0,
            "orientation": "horizontal",
            "style": "IPY_MODEL_9bd454fb21fd4b98bcb228d525f58c6b",
            "value": 100
          }
        },
        "09e20dbc1d984ed4b20c2db614e83341": {
          "model_module": "@jupyter-widgets/controls",
          "model_module_version": "1.5.0",
          "model_name": "DescriptionStyleModel",
          "state": {
            "_model_module": "@jupyter-widgets/controls",
            "_model_module_version": "1.5.0",
            "_model_name": "DescriptionStyleModel",
            "_view_count": null,
            "_view_module": "@jupyter-widgets/base",
            "_view_module_version": "1.2.0",
            "_view_name": "StyleView",
            "description_width": ""
          }
        },
        "483b9de1ce56448f8928359156bcaa88": {
          "model_module": "@jupyter-widgets/controls",
          "model_module_version": "1.5.0",
          "model_name": "HTMLModel",
          "state": {
            "_dom_classes": [],
            "_model_module": "@jupyter-widgets/controls",
            "_model_module_version": "1.5.0",
            "_model_name": "HTMLModel",
            "_view_count": null,
            "_view_module": "@jupyter-widgets/controls",
            "_view_module_version": "1.5.0",
            "_view_name": "HTMLView",
            "description": "",
            "description_tooltip": null,
            "layout": "IPY_MODEL_b67835a15f6a4396807c33ea33ce5685",
            "placeholder": "​",
            "style": "IPY_MODEL_09e20dbc1d984ed4b20c2db614e83341",
            "value": "100%"
          }
        },
        "60ed6e56d86242ba9759ad3952d71f99": {
          "model_module": "@jupyter-widgets/controls",
          "model_module_version": "1.5.0",
          "model_name": "DescriptionStyleModel",
          "state": {
            "_model_module": "@jupyter-widgets/controls",
            "_model_module_version": "1.5.0",
            "_model_name": "DescriptionStyleModel",
            "_view_count": null,
            "_view_module": "@jupyter-widgets/base",
            "_view_module_version": "1.2.0",
            "_view_name": "StyleView",
            "description_width": ""
          }
        },
        "7c025f8f92004269b9da7b1328eb2ad6": {
          "model_module": "@jupyter-widgets/controls",
          "model_module_version": "1.5.0",
          "model_name": "HTMLModel",
          "state": {
            "_dom_classes": [],
            "_model_module": "@jupyter-widgets/controls",
            "_model_module_version": "1.5.0",
            "_model_name": "HTMLModel",
            "_view_count": null,
            "_view_module": "@jupyter-widgets/controls",
            "_view_module_version": "1.5.0",
            "_view_name": "HTMLView",
            "description": "",
            "description_tooltip": null,
            "layout": "IPY_MODEL_ef698ab5a6044164afd90b0111195542",
            "placeholder": "​",
            "style": "IPY_MODEL_60ed6e56d86242ba9759ad3952d71f99",
            "value": " 100/100 [00:01&lt;00:00, 75.60it/s]"
          }
        },
        "968dd89f95ac4ae2adee3f99d5b4ff47": {
          "model_module": "@jupyter-widgets/base",
          "model_module_version": "1.2.0",
          "model_name": "LayoutModel",
          "state": {
            "_model_module": "@jupyter-widgets/base",
            "_model_module_version": "1.2.0",
            "_model_name": "LayoutModel",
            "_view_count": null,
            "_view_module": "@jupyter-widgets/base",
            "_view_module_version": "1.2.0",
            "_view_name": "LayoutView",
            "align_content": null,
            "align_items": null,
            "align_self": null,
            "border": null,
            "bottom": null,
            "display": null,
            "flex": null,
            "flex_flow": null,
            "grid_area": null,
            "grid_auto_columns": null,
            "grid_auto_flow": null,
            "grid_auto_rows": null,
            "grid_column": null,
            "grid_gap": null,
            "grid_row": null,
            "grid_template_areas": null,
            "grid_template_columns": null,
            "grid_template_rows": null,
            "height": null,
            "justify_content": null,
            "justify_items": null,
            "left": null,
            "margin": null,
            "max_height": null,
            "max_width": null,
            "min_height": null,
            "min_width": null,
            "object_fit": null,
            "object_position": null,
            "order": null,
            "overflow": null,
            "overflow_x": null,
            "overflow_y": null,
            "padding": null,
            "right": null,
            "top": null,
            "visibility": null,
            "width": null
          }
        },
        "9bd454fb21fd4b98bcb228d525f58c6b": {
          "model_module": "@jupyter-widgets/controls",
          "model_module_version": "1.5.0",
          "model_name": "ProgressStyleModel",
          "state": {
            "_model_module": "@jupyter-widgets/controls",
            "_model_module_version": "1.5.0",
            "_model_name": "ProgressStyleModel",
            "_view_count": null,
            "_view_module": "@jupyter-widgets/base",
            "_view_module_version": "1.2.0",
            "_view_name": "StyleView",
            "bar_color": null,
            "description_width": ""
          }
        },
        "a07eb12e7dd3431c8bbd4d17cd68fbcf": {
          "model_module": "@jupyter-widgets/controls",
          "model_module_version": "1.5.0",
          "model_name": "HBoxModel",
          "state": {
            "_dom_classes": [],
            "_model_module": "@jupyter-widgets/controls",
            "_model_module_version": "1.5.0",
            "_model_name": "HBoxModel",
            "_view_count": null,
            "_view_module": "@jupyter-widgets/controls",
            "_view_module_version": "1.5.0",
            "_view_name": "HBoxView",
            "box_style": "",
            "children": [
              "IPY_MODEL_483b9de1ce56448f8928359156bcaa88",
              "IPY_MODEL_02e99736ea0b4e34a44e0e7341f95e81",
              "IPY_MODEL_7c025f8f92004269b9da7b1328eb2ad6"
            ],
            "layout": "IPY_MODEL_d9ca16f50055499caa86c4145563351c"
          }
        },
        "b67835a15f6a4396807c33ea33ce5685": {
          "model_module": "@jupyter-widgets/base",
          "model_module_version": "1.2.0",
          "model_name": "LayoutModel",
          "state": {
            "_model_module": "@jupyter-widgets/base",
            "_model_module_version": "1.2.0",
            "_model_name": "LayoutModel",
            "_view_count": null,
            "_view_module": "@jupyter-widgets/base",
            "_view_module_version": "1.2.0",
            "_view_name": "LayoutView",
            "align_content": null,
            "align_items": null,
            "align_self": null,
            "border": null,
            "bottom": null,
            "display": null,
            "flex": null,
            "flex_flow": null,
            "grid_area": null,
            "grid_auto_columns": null,
            "grid_auto_flow": null,
            "grid_auto_rows": null,
            "grid_column": null,
            "grid_gap": null,
            "grid_row": null,
            "grid_template_areas": null,
            "grid_template_columns": null,
            "grid_template_rows": null,
            "height": null,
            "justify_content": null,
            "justify_items": null,
            "left": null,
            "margin": null,
            "max_height": null,
            "max_width": null,
            "min_height": null,
            "min_width": null,
            "object_fit": null,
            "object_position": null,
            "order": null,
            "overflow": null,
            "overflow_x": null,
            "overflow_y": null,
            "padding": null,
            "right": null,
            "top": null,
            "visibility": null,
            "width": null
          }
        },
        "d9ca16f50055499caa86c4145563351c": {
          "model_module": "@jupyter-widgets/base",
          "model_module_version": "1.2.0",
          "model_name": "LayoutModel",
          "state": {
            "_model_module": "@jupyter-widgets/base",
            "_model_module_version": "1.2.0",
            "_model_name": "LayoutModel",
            "_view_count": null,
            "_view_module": "@jupyter-widgets/base",
            "_view_module_version": "1.2.0",
            "_view_name": "LayoutView",
            "align_content": null,
            "align_items": null,
            "align_self": null,
            "border": null,
            "bottom": null,
            "display": null,
            "flex": null,
            "flex_flow": null,
            "grid_area": null,
            "grid_auto_columns": null,
            "grid_auto_flow": null,
            "grid_auto_rows": null,
            "grid_column": null,
            "grid_gap": null,
            "grid_row": null,
            "grid_template_areas": null,
            "grid_template_columns": null,
            "grid_template_rows": null,
            "height": null,
            "justify_content": null,
            "justify_items": null,
            "left": null,
            "margin": null,
            "max_height": null,
            "max_width": null,
            "min_height": null,
            "min_width": null,
            "object_fit": null,
            "object_position": null,
            "order": null,
            "overflow": null,
            "overflow_x": null,
            "overflow_y": null,
            "padding": null,
            "right": null,
            "top": null,
            "visibility": null,
            "width": null
          }
        },
        "ef698ab5a6044164afd90b0111195542": {
          "model_module": "@jupyter-widgets/base",
          "model_module_version": "1.2.0",
          "model_name": "LayoutModel",
          "state": {
            "_model_module": "@jupyter-widgets/base",
            "_model_module_version": "1.2.0",
            "_model_name": "LayoutModel",
            "_view_count": null,
            "_view_module": "@jupyter-widgets/base",
            "_view_module_version": "1.2.0",
            "_view_name": "LayoutView",
            "align_content": null,
            "align_items": null,
            "align_self": null,
            "border": null,
            "bottom": null,
            "display": null,
            "flex": null,
            "flex_flow": null,
            "grid_area": null,
            "grid_auto_columns": null,
            "grid_auto_flow": null,
            "grid_auto_rows": null,
            "grid_column": null,
            "grid_gap": null,
            "grid_row": null,
            "grid_template_areas": null,
            "grid_template_columns": null,
            "grid_template_rows": null,
            "height": null,
            "justify_content": null,
            "justify_items": null,
            "left": null,
            "margin": null,
            "max_height": null,
            "max_width": null,
            "min_height": null,
            "min_width": null,
            "object_fit": null,
            "object_position": null,
            "order": null,
            "overflow": null,
            "overflow_x": null,
            "overflow_y": null,
            "padding": null,
            "right": null,
            "top": null,
            "visibility": null,
            "width": null
          }
        }
      }
    }
  },
  "nbformat": 4,
  "nbformat_minor": 0
}
